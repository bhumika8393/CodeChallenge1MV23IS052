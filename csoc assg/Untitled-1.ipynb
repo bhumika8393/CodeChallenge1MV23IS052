{
 "cells": [
  {
   "cell_type": "code",
   "execution_count": null,
   "id": "fcf9ce9d",
   "metadata": {},
   "outputs": [],
   "source": [
    "#include <stdio.h>\n",
    "\n",
    "void printFibonacci(int n) {\n",
    "    int a = 0, b = 1, next;\n",
    "\n",
    "    for (int i = 0; i < n; i++) {\n",
    "        printf(\"%d \", a);\n",
    "        next = a + b;\n",
    "        a = b;\n",
    "        b = next;\n",
    "    }\n",
    "}\n",
    "\n",
    "int main() {\n",
    "    int n;\n",
    "    printf(\"Input: \");\n",
    "    scanf(\"%d\", &n);\n",
    "    printf(\"Output: \");\n",
    "    printFibonacci(n);\n",
    "    return 0;\n",
    "}\n"
   ]
  }
 ],
 "metadata": {
  "language_info": {
   "name": "python"
  }
 },
 "nbformat": 4,
 "nbformat_minor": 5
}
